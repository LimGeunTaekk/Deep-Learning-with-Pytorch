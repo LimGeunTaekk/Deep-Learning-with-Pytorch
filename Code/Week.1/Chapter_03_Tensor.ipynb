{
  "nbformat": 4,
  "nbformat_minor": 0,
  "metadata": {
    "colab": {
      "name": "Chapter_03_Tensor.ipynb",
      "provenance": [],
      "collapsed_sections": []
    },
    "kernelspec": {
      "name": "python3",
      "display_name": "Python 3"
    },
    "language_info": {
      "name": "python"
    },
    "accelerator": "GPU",
    "gpuClass": "standard"
  },
  "cells": [
    {
      "cell_type": "code",
      "source": [
        "import torch"
      ],
      "metadata": {
        "id": "pPtZcO_frQmL"
      },
      "execution_count": null,
      "outputs": []
    },
    {
      "cell_type": "code",
      "source": [
        "python_list = [1.0, 2.0, 3.0, 4.0, 5.0]\n",
        "\n",
        "torch_tensor = torch.tensor([1.0, 2.0, 3.0, 4.0, 5.0])"
      ],
      "metadata": {
        "id": "-b50CKZ6BpgQ"
      },
      "execution_count": null,
      "outputs": []
    },
    {
      "cell_type": "code",
      "source": [
        "for i in range(len(python_list)):\n",
        "    print(\"{}번째 element {} 의 memory 주소 : {}\".format(i,torch_tensor[i],id(python_list[i])))"
      ],
      "metadata": {
        "colab": {
          "base_uri": "https://localhost:8080/"
        },
        "id": "2y4laJv-B3fu",
        "outputId": "ecdc30c9-26f2-4d04-9088-559cb9389754"
      },
      "execution_count": null,
      "outputs": [
        {
          "output_type": "stream",
          "name": "stdout",
          "text": [
            "0번째 element 1.0 의 memory 주소 : 139705760512240\n",
            "1번째 element 2.0 의 memory 주소 : 139705760512048\n",
            "2번째 element 3.0 의 memory 주소 : 139705760512304\n",
            "3번째 element 4.0 의 memory 주소 : 139705760511408\n",
            "4번째 element 5.0 의 memory 주소 : 139705760512144\n"
          ]
        }
      ]
    },
    {
      "cell_type": "markdown",
      "source": [
        "### TORCH.TENSOR.DATA_PTR\n",
        "\n",
        "\n",
        "=> Returns the address of the first element of self tensor.\n",
        "\n"
      ],
      "metadata": {
        "id": "rwO5PReODAkA"
      }
    },
    {
      "cell_type": "code",
      "source": [
        "for i in range(len(torch_tensor)):\n",
        "    print(\"{}번째 element {} 의 memory 주소 : {}\".format(i,torch_tensor[i],torch_tensor[i].data_ptr()))"
      ],
      "metadata": {
        "colab": {
          "base_uri": "https://localhost:8080/"
        },
        "id": "ThGv964yCDYX",
        "outputId": "772737f3-8aec-4b27-c750-53264e807865"
      },
      "execution_count": null,
      "outputs": [
        {
          "output_type": "stream",
          "name": "stdout",
          "text": [
            "0번째 element 1.0 의 memory 주소 : 127440384\n",
            "1번째 element 2.0 의 memory 주소 : 127440388\n",
            "2번째 element 3.0 의 memory 주소 : 127440392\n",
            "3번째 element 4.0 의 memory 주소 : 127440396\n",
            "4번째 element 5.0 의 memory 주소 : 127440400\n"
          ]
        }
      ]
    },
    {
      "cell_type": "markdown",
      "source": [
        "### TORCH.EINSUM\n",
        "\n",
        "=> Sums the product of the elements of the input operands along dimensions specified using a notation based on the Einstein summation convention.\n",
        "\n",
        "=> For example, matrix multiplication can be computed using einsum as torch.einsum(“ij,jk->ik”, A, B). Here, j is the summation subscript and i and k the output subscripts (see section below for more details on why)."
      ],
      "metadata": {
        "id": "7nFDN-x-DlUE"
      }
    },
    {
      "cell_type": "code",
      "source": [
        "q = torch.randn(16,512)\n",
        "k = torch.randn(16,512)\n",
        "neg = torch.randn(16,512,20)\n",
        "\n",
        "l_pos = torch.einsum('nc,nc->n', [q, k]).unsqueeze(-1)\n",
        "l_neg = torch.einsum('nc,nck->nk', [q, neg])\n",
        "\n",
        "print(l_pos.shape)\n",
        "print(l_neg.shape)"
      ],
      "metadata": {
        "colab": {
          "base_uri": "https://localhost:8080/"
        },
        "id": "WC7FfrNWDkz-",
        "outputId": "58682a55-6d63-4a68-9b07-1275368d7c7e"
      },
      "execution_count": null,
      "outputs": [
        {
          "output_type": "stream",
          "name": "stdout",
          "text": [
            "torch.Size([16, 1])\n",
            "torch.Size([16, 20])\n"
          ]
        }
      ]
    },
    {
      "cell_type": "markdown",
      "source": [
        "\n",
        "\n",
        "**파이썬에서 숫자는 객체다**\n",
        "\n",
        "* In boxing, the value stored on the stack is copied to the object stored on heap memory, whereas unboxing is the opposite.\n",
        "\n",
        "\n",
        "* In Unboxing, the object's value stored on the heap memory is copied to the value type stored on stack.\n",
        "\n",
        "**파이썬에서 리스트는 연속된 객체의 컬렉션이다.**\n",
        "\n",
        "* Python lists have no way of optimizing the layout of their contents in memory as they are indexable collections of pointers to python.\n",
        "\n",
        "**파이썬 인터프리터는 최적화를 거치는 컴파일된 코드보다 느리다.**"
      ],
      "metadata": {
        "id": "1okDaXa3ELBu"
      }
    },
    {
      "cell_type": "code",
      "source": [
        "Tensor_A = torch.tensor([[1,2],[3,4],[5,6]])"
      ],
      "metadata": {
        "id": "A4G3bB3oTCc9"
      },
      "execution_count": null,
      "outputs": []
    },
    {
      "cell_type": "code",
      "source": [
        "Tensor_B = torch.transpose(Tensor_A,0,1)"
      ],
      "metadata": {
        "id": "VreGpq4YTF6Q"
      },
      "execution_count": null,
      "outputs": []
    },
    {
      "cell_type": "code",
      "source": [
        "print(Tensor_A, Tensor_A.shape)\n",
        "print()\n",
        "print(Tensor_B, Tensor_B.shape)"
      ],
      "metadata": {
        "colab": {
          "base_uri": "https://localhost:8080/"
        },
        "id": "TE_3-4lHTJ3k",
        "outputId": "d3d5cf83-e02c-41e3-afb8-8c9382e36708"
      },
      "execution_count": null,
      "outputs": [
        {
          "output_type": "stream",
          "name": "stdout",
          "text": [
            "tensor([[1, 2],\n",
            "        [3, 4],\n",
            "        [5, 6]]) torch.Size([3, 2])\n",
            "\n",
            "tensor([[1, 3, 5],\n",
            "        [2, 4, 6]]) torch.Size([2, 3])\n"
          ]
        }
      ]
    },
    {
      "cell_type": "code",
      "source": [
        "print(\"Tensor_A's pointer : {}\".format(Tensor_A.data_ptr()))\n",
        "print(\"Tensor_B's pointer : {}\".format(Tensor_B.data_ptr()))"
      ],
      "metadata": {
        "colab": {
          "base_uri": "https://localhost:8080/"
        },
        "id": "m1Jp4tLjTaIQ",
        "outputId": "4883f852-633a-487a-8432-cb0fb3bdd571"
      },
      "execution_count": null,
      "outputs": [
        {
          "output_type": "stream",
          "name": "stdout",
          "text": [
            "Tensor_A's pointer : 127572288\n",
            "Tensor_B's pointer : 127572288\n"
          ]
        }
      ]
    },
    {
      "cell_type": "code",
      "source": [
        "Tensor_C = Tensor_A.clone()"
      ],
      "metadata": {
        "id": "OahSV5AQVTjy"
      },
      "execution_count": null,
      "outputs": []
    },
    {
      "cell_type": "code",
      "source": [
        "print(\"Tensor_A's pointer : {}\".format(Tensor_A.data_ptr()))\n",
        "print(\"Tensor_B's pointer : {}\".format(Tensor_B.data_ptr()))\n",
        "print(\"Tensor_C's pointer : {}\".format(Tensor_C.data_ptr()))"
      ],
      "metadata": {
        "colab": {
          "base_uri": "https://localhost:8080/"
        },
        "id": "zKAsVJKYVZ8V",
        "outputId": "62611ec4-8077-41f4-9ec6-d30ab94e7482"
      },
      "execution_count": null,
      "outputs": [
        {
          "output_type": "stream",
          "name": "stdout",
          "text": [
            "Tensor_A's pointer : 127572288\n",
            "Tensor_B's pointer : 127572288\n",
            "Tensor_C's pointer : 127573184\n"
          ]
        }
      ]
    },
    {
      "cell_type": "code",
      "source": [
        "Tensor_A = torch.tensor([[1,2],[3,4],[5,6]])\n",
        "Tensor_B = torch.transpose(Tensor_A,0,1)\n",
        "\n",
        "print(\"Before Insert\")\n",
        "\n",
        "print(Tensor_A)\n",
        "print()\n",
        "print(Tensor_B)\n",
        "print()\n",
        "\n",
        "Tensor_B[0] = torch.tensor([7,8,9])\n",
        "\n",
        "print(\"After Insert\")\n",
        "\n",
        "print(Tensor_A)\n",
        "print()\n",
        "print(Tensor_B)"
      ],
      "metadata": {
        "colab": {
          "base_uri": "https://localhost:8080/"
        },
        "id": "vMU9JkkgVcXX",
        "outputId": "ddf200a6-498f-433d-b3c3-99d400fa86e3"
      },
      "execution_count": null,
      "outputs": [
        {
          "output_type": "stream",
          "name": "stdout",
          "text": [
            "Before Insert\n",
            "tensor([[1, 2],\n",
            "        [3, 4],\n",
            "        [5, 6]])\n",
            "\n",
            "tensor([[1, 3, 5],\n",
            "        [2, 4, 6]])\n",
            "\n",
            "After Insert\n",
            "tensor([[7, 2],\n",
            "        [8, 4],\n",
            "        [9, 6]])\n",
            "\n",
            "tensor([[7, 8, 9],\n",
            "        [2, 4, 6]])\n"
          ]
        }
      ]
    },
    {
      "cell_type": "markdown",
      "source": [
        "### Pytorch with GPU"
      ],
      "metadata": {
        "id": "NX6AJK8JYR6V"
      }
    },
    {
      "cell_type": "code",
      "source": [
        "import torch\n",
        "from torchvision.io import read_image\n",
        "from torchvision.models import resnet50, ResNet50_Weights\n",
        "import time\n",
        "# Step 1: Initialize model with the best available weights\n",
        "weights = ResNet50_Weights.DEFAULT\n",
        "model = resnet50(weights=weights)\n",
        "model.eval()\n",
        "\n",
        "input = torch.randn(1,3,224,224)\n",
        "\n",
        "start = time.time()\n",
        "output = model(input)\n",
        "print(\"Forward Time with CPU : {}\".format(time.time()-start))"
      ],
      "metadata": {
        "colab": {
          "base_uri": "https://localhost:8080/"
        },
        "id": "YHM7GBV6XIpw",
        "outputId": "1029b377-33cb-4de4-d293-5a85a4e5f697"
      },
      "execution_count": null,
      "outputs": [
        {
          "output_type": "stream",
          "name": "stdout",
          "text": [
            "Forward Time with CPU : 0.18960905075073242\n"
          ]
        }
      ]
    },
    {
      "cell_type": "code",
      "source": [
        "from torchvision.io import read_image\n",
        "from torchvision.models import resnet50, ResNet50_Weights\n",
        "import time\n",
        "# Step 1: Initialize model with the best available weights\n",
        "weights = ResNet50_Weights.DEFAULT\n",
        "model = resnet50(weights=weights)\n",
        "model = model.cuda()\n",
        "model.eval()\n",
        "\n",
        "input = torch.randn(1,3,224,224).cuda()\n",
        "\n",
        "start = time.time()\n",
        "output = model(input)\n",
        "print(\"Forward Time with GPU : {}\".format(time.time()-start))"
      ],
      "metadata": {
        "colab": {
          "base_uri": "https://localhost:8080/"
        },
        "id": "ZRYmeeEIXga3",
        "outputId": "dcd41e1a-941a-4e9f-fdcb-8757c88f6d30"
      },
      "execution_count": null,
      "outputs": [
        {
          "output_type": "stream",
          "name": "stdout",
          "text": [
            "Forward Time with GPU : 0.010813713073730469\n"
          ]
        }
      ]
    },
    {
      "cell_type": "code",
      "source": [
        "CPU_tensor = torch.tensor([[1,2],[3,4],[5,6]])"
      ],
      "metadata": {
        "id": "DSx4coCaYBnH"
      },
      "execution_count": null,
      "outputs": []
    },
    {
      "cell_type": "code",
      "source": [
        "GPU_tensor = CPU_tensor.cuda()"
      ],
      "metadata": {
        "id": "MIAFLIgjYYdL"
      },
      "execution_count": null,
      "outputs": []
    },
    {
      "cell_type": "code",
      "source": [
        "print(\"Tensor_CPU's pointer : {}\".format(CPU_tensor.data_ptr()))\n",
        "print(\"Tensor_GPU's pointer : {}\".format(GPU_tensor.data_ptr()))"
      ],
      "metadata": {
        "colab": {
          "base_uri": "https://localhost:8080/"
        },
        "id": "JcHDL97cYbPQ",
        "outputId": "270f9c78-54fc-4002-f017-63c75d67edbb"
      },
      "execution_count": null,
      "outputs": [
        {
          "output_type": "stream",
          "name": "stdout",
          "text": [
            "Tensor_CPU's pointer : 2774537280\n",
            "Tensor_GPU's pointer : 139727996977152\n"
          ]
        }
      ]
    }
  ]
}