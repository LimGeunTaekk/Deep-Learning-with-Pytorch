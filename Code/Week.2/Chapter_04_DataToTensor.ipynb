{
  "nbformat": 4,
  "nbformat_minor": 0,
  "metadata": {
    "colab": {
      "provenance": [],
      "collapsed_sections": []
    },
    "kernelspec": {
      "name": "python3",
      "display_name": "Python 3"
    },
    "language_info": {
      "name": "python"
    }
  },
  "cells": [
    {
      "cell_type": "code",
      "source": [
        "%cd /content/drive/MyDrive/Colab Notebooks/pytroch_study/dlwpt-code-master"
      ],
      "metadata": {
        "id": "f0v5QXl8lmz6",
        "colab": {
          "base_uri": "https://localhost:8080/"
        },
        "outputId": "2f4fe211-b701-4c69-ff86-0950531be8a9"
      },
      "execution_count": 1,
      "outputs": [
        {
          "output_type": "stream",
          "name": "stdout",
          "text": [
            "/content/drive/MyDrive/Colab Notebooks/pytroch_study/dlwpt-code-master\n"
          ]
        }
      ]
    },
    {
      "cell_type": "markdown",
      "source": [
        "### [4.1] 이미지 다루기"
      ],
      "metadata": {
        "id": "Evc_0nkglUlV"
      }
    },
    {
      "cell_type": "code",
      "execution_count": 2,
      "metadata": {
        "id": "hIs7Cg3vlCE0"
      },
      "outputs": [],
      "source": [
        "## 이미지 파일 로딩\n",
        "import torch\n",
        "import imageio\n",
        "img_arr = imageio.imread('data/p1ch4/image-dog/bobby.jpg') # (720, 1280, 3) (H, W, C)\n",
        "# 이미지 데이터를 다루는 파이토치 모듈은 텐서가 C x H x W 순으로 배치되어야 함\n",
        "img = torch.from_numpy(img_arr)\n",
        "out = img.permute(2, 0, 1) # torch.Size([3, 720, 1280])\n",
        "# [주의]: out은 img 저장 공간과 동일, 단순히 텐서 레벨에서 크기와 스트라이드 정보만 변경"
      ]
    },
    {
      "cell_type": "markdown",
      "source": [
        "* 신경망의 입력 (0 ~ 1), (-1 ~ 1) 사이일 때 훈련 성능이 가장 좋은 특징??\n",
        " * 빌딩 블록이 정의되는 방식이 이런 특징에 영향을 미침 >> 정확히 이해 X\n",
        "* 정규화 외에 기하학적인 변환(회전, 크기 변환, 자르기) 작업도 성능에 영향"
      ],
      "metadata": {
        "id": "VPEFKAODqjJO"
      }
    },
    {
      "cell_type": "markdown",
      "source": [
        "### [4.2] 3차원 이미지: 용적 데이터\n"
      ],
      "metadata": {
        "id": "FiJdu3cbrrPA"
      }
    },
    {
      "cell_type": "markdown",
      "source": [
        "* CT는 흑백 이미지처럼 하나의 밀도 채널만 있음\n",
        " * 2차원 단면을 스택처럼 쌓아 3차원 텐서를 만들면 3차원 해부도를 표현한 용적 데이터\n",
        " * N x C x D x H x W"
      ],
      "metadata": {
        "id": "NDQMIxtSiknY"
      }
    },
    {
      "cell_type": "markdown",
      "source": [
        "### [4.3] 테이블 데이터 표현하기\n",
        "* csv 파일 읽는 방법: 파이썬 내장 csv 모듈, 넘파이, 판다스"
      ],
      "metadata": {
        "id": "iVVaIscNt5Em"
      }
    },
    {
      "cell_type": "code",
      "source": [
        "# 넘파이 활용\n",
        "import numpy as np\n",
        "import csv\n",
        "wine_path = 'data/p1ch4/tabular-wine/winequality-white.csv'\n",
        "wineq_numpy = np.loadtxt(wine_path, dtype=np.float32, delimiter=';', skiprows=1)\n",
        "wineq_numpy"
      ],
      "metadata": {
        "id": "8ZU_qYqyq73b",
        "colab": {
          "base_uri": "https://localhost:8080/"
        },
        "outputId": "0989fc5a-03b2-4aba-823b-79ec174856c0"
      },
      "execution_count": 3,
      "outputs": [
        {
          "output_type": "execute_result",
          "data": {
            "text/plain": [
              "array([[ 7.  ,  0.27,  0.36, ...,  0.45,  8.8 ,  6.  ],\n",
              "       [ 6.3 ,  0.3 ,  0.34, ...,  0.49,  9.5 ,  6.  ],\n",
              "       [ 8.1 ,  0.28,  0.4 , ...,  0.44, 10.1 ,  6.  ],\n",
              "       ...,\n",
              "       [ 6.5 ,  0.24,  0.19, ...,  0.46,  9.4 ,  6.  ],\n",
              "       [ 5.5 ,  0.29,  0.3 , ...,  0.38, 12.8 ,  7.  ],\n",
              "       [ 6.  ,  0.21,  0.38, ...,  0.32, 11.8 ,  6.  ]], dtype=float32)"
            ]
          },
          "metadata": {},
          "execution_count": 3
        }
      ]
    },
    {
      "cell_type": "code",
      "source": [
        "col_list = next(csv.reader(open(wine_path), delimiter=';'))\n",
        "print(wineq_numpy.shape, '\\n', col_list)\n",
        "# 넘파이 배열을 파이토치 텐서로 변환\n",
        "wineq = torch.from_numpy(wineq_numpy)"
      ],
      "metadata": {
        "colab": {
          "base_uri": "https://localhost:8080/"
        },
        "id": "V5J-yXZ0UKO4",
        "outputId": "6b5399ae-a60d-43c5-f1e2-23fb2d75ee0f"
      },
      "execution_count": 4,
      "outputs": [
        {
          "output_type": "stream",
          "name": "stdout",
          "text": [
            "(4898, 12) \n",
            " ['fixed acidity', 'volatile acidity', 'citric acid', 'residual sugar', 'chlorides', 'free sulfur dioxide', 'total sulfur dioxide', 'density', 'pH', 'sulphates', 'alcohol', 'quality']\n"
          ]
        }
      ]
    },
    {
      "cell_type": "markdown",
      "source": [
        "* 숫자값의 종류\n",
        " * 연속값:값 사이의 순서 O, 두 값의 차이가 의미를 지님\n",
        " * 순서값: 값 사이의 순서 O, 그 정도를 알 수 없기 때문에 두 값의 차이를 이용해서 계산 X\n",
        " * 카테고리값: 값 사이의 순서 X, 숫자적인 의미 X"
      ],
      "metadata": {
        "id": "sJeCGca3VoBs"
      }
    },
    {
      "cell_type": "code",
      "source": [
        "data = wineq[:,:-1]\n",
        "target = wineq[:,-1].long()\n",
        "print(data.shape, target.shape)"
      ],
      "metadata": {
        "colab": {
          "base_uri": "https://localhost:8080/"
        },
        "id": "j6Dw9HXQU3-B",
        "outputId": "e08f7c35-d165-42d8-bb0f-fbceae5246d2"
      },
      "execution_count": 5,
      "outputs": [
        {
          "output_type": "stream",
          "name": "stdout",
          "text": [
            "torch.Size([4898, 11]) torch.Size([4898])\n"
          ]
        }
      ]
    },
    {
      "cell_type": "markdown",
      "source": [
        "* 와인의 품질 점수\n",
        " * 정수 벡터로 처리: 값 사이에 '순서', '거리'가 있을 경우\n",
        " * 원핫인코딩: 값 사이에 '순서', '거리'가 없을 경우"
      ],
      "metadata": {
        "id": "WBo6OCYIYdWl"
      }
    },
    {
      "cell_type": "code",
      "source": [
        "# 원핫인코딩\n",
        "target_onehot = torch.zeros(target.shape[0], 10)\n",
        "target_onehot.scatter_(1, target.unsqueeze(1), 1.0) # unsqueeze: 싱글톤 차원 추가\n",
        "print(target_onehot.shape)"
      ],
      "metadata": {
        "colab": {
          "base_uri": "https://localhost:8080/"
        },
        "id": "h-qMDwGWXjQd",
        "outputId": "ad9e669e-765c-4226-9582-bac911bc3622"
      },
      "execution_count": 6,
      "outputs": [
        {
          "output_type": "stream",
          "name": "stdout",
          "text": [
            "torch.Size([4898, 10])\n"
          ]
        }
      ]
    },
    {
      "cell_type": "markdown",
      "source": [
        "* 연속 데이터: 값을 바로 사용\n",
        "* 순서 데이터: '우선순위' 있을 경우, 연속 취급/ 없을 경우, 카테고리 취급\n",
        "* 카테고리 데이터: 원핫 or 임베딩 사용"
      ],
      "metadata": {
        "id": "SReXz_cJcgHB"
      }
    },
    {
      "cell_type": "code",
      "source": [
        "## 데이터 가공\n",
        "data_mean = torch.mean(data, dim=0)\n",
        "data_var = torch.var(data, dim=0)\n",
        "data_normalized = (data - data_mean) / torch.sqrt(data_var) # 정규화"
      ],
      "metadata": {
        "id": "SOA-okiGcxqw"
      },
      "execution_count": 7,
      "outputs": []
    },
    {
      "cell_type": "markdown",
      "source": [
        "* 임계값으로 찾기\n",
        " * 고급 인덱싱: torch.bool 데이터 타입을 사용하면 열이 True에 해당하는 행들만 접근 가능"
      ],
      "metadata": {
        "id": "9Cwz7D1YeJOi"
      }
    },
    {
      "cell_type": "code",
      "source": [
        "# 점수가 3 이하인 열을 target에서 거르기\n",
        "bad_indexes = target <= 3\n",
        "print(bad_indexes.shape, bad_indexes.dtype, bad_indexes.sum())\n",
        "bad_data = data[bad_indexes]\n",
        "print(bad_data.shape)\n",
        "\n",
        "# 와인 정보를 좋음, 보통, 나쁨 카테고리로 나눠보자!\n",
        "bad_data = data[target <= 3]\n",
        "mid_data = data[(target > 3) & (target <7)]\n",
        "good_data = data[target >= 3]\n",
        "\n",
        "bad_mean = torch.mean(bad_data, dim=0)\n",
        "mid_mean = torch.mean(mid_data, dim=0)\n",
        "good_mean = torch.mean(good_data, dim=0)\n",
        "\n",
        "for i, args in enumerate(zip(col_list, bad_mean, mid_mean, good_mean)):\n",
        "  print('{:2} {:20} {:6.2f} {:6.2f} {:6.2f}'.format(i, *args))\n",
        "\n",
        "# 이런 식으로 경향을 확인해 볼 수 있다!!"
      ],
      "metadata": {
        "colab": {
          "base_uri": "https://localhost:8080/"
        },
        "id": "C_2DceGaeWXi",
        "outputId": "f4a1f95d-c5d5-4e3c-b7e9-f29ef4100782"
      },
      "execution_count": 8,
      "outputs": [
        {
          "output_type": "stream",
          "name": "stdout",
          "text": [
            "torch.Size([4898]) torch.bool tensor(20)\n",
            "torch.Size([20, 11])\n",
            " 0 fixed acidity          7.60   6.89   6.85\n",
            " 1 volatile acidity       0.33   0.28   0.28\n",
            " 2 citric acid            0.34   0.34   0.33\n",
            " 3 residual sugar         6.39   6.71   6.39\n",
            " 4 chlorides              0.05   0.05   0.05\n",
            " 5 free sulfur dioxide   53.33  35.42  35.31\n",
            " 6 total sulfur dioxide 170.60 141.83 138.36\n",
            " 7 density                0.99   0.99   0.99\n",
            " 8 pH                     3.19   3.18   3.19\n",
            " 9 sulphates              0.47   0.49   0.49\n",
            "10 alcohol               10.34  10.26  10.51\n"
          ]
        }
      ]
    },
    {
      "cell_type": "markdown",
      "source": [
        "### [4.4] 시계열 데이터 다루기\n",
        "* 테이블: 모든 행은 다른 행과 독립적이었으며 행의 순서는 중요하지 않았음\n",
        "* 시계열 데이터: 각 행은 연속적인 시간상에서의 한 지점을 표현\n"
      ],
      "metadata": {
        "id": "r3cSeEO4hr_p"
      }
    },
    {
      "cell_type": "code",
      "source": [
        "## 시간 차원 더하기\n",
        "bikes_numpy = np.loadtxt(\n",
        "    \"data/p1ch4/bike-sharing-dataset/hour-fixed.csv\",\n",
        "    dtype=np.float32,\n",
        "    delimiter=',',\n",
        "    skiprows=1,\n",
        "    converters={1: lambda x: float(x[8:10])} # 첫 번째 열의 일자 문자열을 숫자로 변환\n",
        ")\n",
        "bikes = torch.from_numpy(bikes_numpy)\n",
        "print(bikes.shape)"
      ],
      "metadata": {
        "colab": {
          "base_uri": "https://localhost:8080/"
        },
        "id": "cQdBx30wiJMC",
        "outputId": "515f8a60-a5c5-4816-f2c4-3ec4ed3eba52"
      },
      "execution_count": 9,
      "outputs": [
        {
          "output_type": "stream",
          "name": "stdout",
          "text": [
            "torch.Size([17520, 17])\n"
          ]
        }
      ]
    },
    {
      "cell_type": "code",
      "source": [
        "## 시간 단위로 데이터 만들기\n",
        "# N(샘플 수) x C(17개의 채널) x L(24, 1을 한 시간으로 취급 >> 주 단위로 할 경우, 7x24=168)\n",
        "\n",
        "# 일별로 매 시간의 데이터셋을 구하기 위해 동일 텐서를 24시간 배치로 바라보는 뷰가 필요\n",
        "print(bikes.shape, bikes.stride()) # 17520 시간에 17개 열 >> 일자, 시간, 17개 열의 세 개 축으로 변환\n",
        "\n",
        "daily_bikes = bikes.view(-1, 24, bikes.shape[1]) # view: 텐서가 저장 공간에 있는 동일한 데이터를 다르게 바라보는 역할\n",
        "print(daily_bikes.shape, daily_bikes.stride())\n",
        "# C개의 채널을 가진 하루를 L시간으로 나눈 N개의 연속된 값\n",
        "daily_bikes = daily_bikes.transpose(1, 2)\n",
        "print(daily_bikes.shape, daily_bikes.stride()) # N x C x L"
      ],
      "metadata": {
        "colab": {
          "base_uri": "https://localhost:8080/"
        },
        "id": "CcBDeLm6oB9y",
        "outputId": "9e97e737-60eb-40bc-f65d-f76c029f43e8"
      },
      "execution_count": 10,
      "outputs": [
        {
          "output_type": "stream",
          "name": "stdout",
          "text": [
            "torch.Size([17520, 17]) (17, 1)\n",
            "torch.Size([730, 24, 17]) (408, 17, 1)\n",
            "torch.Size([730, 17, 24]) (408, 1, 17)\n"
          ]
        }
      ]
    },
    {
      "cell_type": "code",
      "source": [
        "## 훈련 준비\n",
        "\n",
        "# 우선, 첫째날의 데이터만 생각\n",
        "first_day = bikes[:24].long() \n",
        "print(first_day.shape)\n",
        "weather_onehot = torch.zeros(first_day.shape[0], 4)\n",
        "print(first_day[:,9])\n",
        "\n",
        "weather_onehot.scatter_(\n",
        "    dim=1,\n",
        "    index=first_day[:,9].unsqueeze(1).long() - 1,\n",
        "    value=1.0\n",
        ")\n",
        "print(weather_onehot)\n",
        "# cat 함수를 사용해 원래 데이터셋에 병합\n",
        "torch.cat((bikes[:24], weather_onehot), 1)[:1]"
      ],
      "metadata": {
        "colab": {
          "base_uri": "https://localhost:8080/"
        },
        "id": "EMPlbVaVtcXT",
        "outputId": "160a8a11-ee27-470e-de77-65257d18dd0b"
      },
      "execution_count": 11,
      "outputs": [
        {
          "output_type": "stream",
          "name": "stdout",
          "text": [
            "torch.Size([24, 17])\n",
            "tensor([1, 1, 1, 1, 1, 2, 1, 1, 1, 1, 1, 1, 1, 2, 2, 2, 2, 2, 3, 3, 2, 2, 2, 2])\n",
            "tensor([[1., 0., 0., 0.],\n",
            "        [1., 0., 0., 0.],\n",
            "        [1., 0., 0., 0.],\n",
            "        [1., 0., 0., 0.],\n",
            "        [1., 0., 0., 0.],\n",
            "        [0., 1., 0., 0.],\n",
            "        [1., 0., 0., 0.],\n",
            "        [1., 0., 0., 0.],\n",
            "        [1., 0., 0., 0.],\n",
            "        [1., 0., 0., 0.],\n",
            "        [1., 0., 0., 0.],\n",
            "        [1., 0., 0., 0.],\n",
            "        [1., 0., 0., 0.],\n",
            "        [0., 1., 0., 0.],\n",
            "        [0., 1., 0., 0.],\n",
            "        [0., 1., 0., 0.],\n",
            "        [0., 1., 0., 0.],\n",
            "        [0., 1., 0., 0.],\n",
            "        [0., 0., 1., 0.],\n",
            "        [0., 0., 1., 0.],\n",
            "        [0., 1., 0., 0.],\n",
            "        [0., 1., 0., 0.],\n",
            "        [0., 1., 0., 0.],\n",
            "        [0., 1., 0., 0.]])\n"
          ]
        },
        {
          "output_type": "execute_result",
          "data": {
            "text/plain": [
              "tensor([[ 1.0000,  1.0000,  1.0000,  0.0000,  1.0000,  0.0000,  0.0000,  6.0000,\n",
              "          0.0000,  1.0000,  0.2400,  0.2879,  0.8100,  0.0000,  3.0000, 13.0000,\n",
              "         16.0000,  1.0000,  0.0000,  0.0000,  0.0000]])"
            ]
          },
          "metadata": {},
          "execution_count": 11
        }
      ]
    },
    {
      "cell_type": "code",
      "source": [
        "# 전체에 적용\n",
        "daily_weather_onehot = torch.zeros(daily_bikes.shape[0], 4, daily_bikes.shape[2])\n",
        "print(daily_weather_onehot.shape)\n",
        "daily_weather_onehot.scatter_(1, daily_bikes[:,9,:].long().unsqueeze(1) - 1, 1.0)\n",
        "print(daily_weather_onehot.shape)\n",
        "daily_bikes = torch.cat((daily_bikes, daily_weather_onehot), dim=1)\n",
        "print(daily_bikes.shape)"
      ],
      "metadata": {
        "colab": {
          "base_uri": "https://localhost:8080/"
        },
        "id": "WoZJ8iqZw_ci",
        "outputId": "305c84ad-5307-4340-b7b9-c1e98f13d2c3"
      },
      "execution_count": 12,
      "outputs": [
        {
          "output_type": "stream",
          "name": "stdout",
          "text": [
            "torch.Size([730, 4, 24])\n",
            "torch.Size([730, 4, 24])\n",
            "torch.Size([730, 21, 24])\n"
          ]
        }
      ]
    },
    {
      "cell_type": "markdown",
      "source": [
        "### [4.5] 텍스트 표현하기\n",
        "* 텍스트를 신경망이 처리할 수 있는 숫자의 텐서로 바꾸는 것\n",
        " * 첫번재 단계 - 데이터의 차원 정보 재정의\n",
        " * 문자 단위, 단어 단위 - 원핫인코딩 원리\n",
        "* 대부분의 언어: 단어 수 >> 문자 수\n",
        " * 단어 레벨: 매우 큰 수의 클래스를 표현 + 개별 문자보다 더 많은 의미 내포함으로써 훨씬 더 많은 정보\n"
      ],
      "metadata": {
        "id": "1Tc7dmIX0LsQ"
      }
    },
    {
      "cell_type": "code",
      "source": [
        "## 문자 원핫인코딩: 분석 대상 텍스트에 있는 문자 집합으로 한정하여 원핫인코딩\n",
        "with open('data/p1ch4/jane-austen/1342-0.txt', encoding='utf8') as f:\n",
        "  text = f.read()"
      ],
      "metadata": {
        "id": "K6xxrn5E0OPn"
      },
      "execution_count": 13,
      "outputs": []
    },
    {
      "cell_type": "code",
      "source": [
        "lines = text.split('\\n')\n",
        "line = lines[200]\n",
        "print(line)\n",
        "\n",
        "letter_t = torch.zeros(len(line), 128)\n",
        "print(letter_t.shape)\n",
        "\n",
        "for i, letter in enumerate(line.lower().strip()):\n",
        "  letter_index = ord(letter) if ord(letter) < 128 else 0\n",
        "  letter_t[i][letter_index] = 1"
      ],
      "metadata": {
        "colab": {
          "base_uri": "https://localhost:8080/"
        },
        "id": "ZPZOoWWh5BKF",
        "outputId": "ae552b88-694e-46b5-a70b-18e6c4e545bc"
      },
      "execution_count": 14,
      "outputs": [
        {
          "output_type": "stream",
          "name": "stdout",
          "text": [
            "“Impossible, Mr. Bennet, impossible, when I am not acquainted with him\n",
            "torch.Size([70, 128])\n"
          ]
        }
      ]
    },
    {
      "cell_type": "markdown",
      "source": [
        "* 인코딩 크기를 처리할 규모로 줄이고 더 이상 늘어나지 않게 할 수 있을까?\n",
        " * 부동소수점 수를 가지는 벡터를 사용 - 임베딩\n",
        " * 단점: 의미나 문맥에 기반해 단어 사이의 거리를 두도록 배치하는 개념 포기\n",
        " * 해결책: 비슷한 맥락에서 사용한 단어들이 가까운 거리에 배치되는 임베딩을 만들어 사용\n",
        " * 흥미로운 점; 만들어진 임베딩에서 비슷한 단어들끼리 군집할 뿐 아니라 일관된 공간 관계를 유지 (사과 - 붉은 - 달콤한 + 노란 + 새콤한 = 레몬 벡터와 유사)\n",
        " "
      ],
      "metadata": {
        "id": "i85rXepO-7pP"
      }
    }
  ]
}